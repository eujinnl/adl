{
 "cells": [
  {
   "cell_type": "markdown",
   "id": "305b6179-b3f4-450e-bbee-5ead2244831c",
   "metadata": {},
   "source": [
    "# Install stuff"
   ]
  },
  {
   "cell_type": "markdown",
   "id": "b1a2d98d-9819-4d60-8030-ab83a14a47a1",
   "metadata": {},
   "source": [
    "First, we need to install all the packages and software we need:\n",
    "This inlcudes:\n",
    "- python\n",
    "- pip\n",
    "- virtual env\n",
    "- dvc\n",
    "- mlflow\n",
    "- docker"
   ]
  },
  {
   "cell_type": "markdown",
   "id": "c98a10d4-1bf6-4186-9eda-491cb2d9e046",
   "metadata": {},
   "source": [
    "# Get started\n",
    "\n",
    "We create a new directory, I will call mine MLOps"
   ]
  },
  {
   "cell_type": "markdown",
   "id": "d4b5d083-8eea-4516-98e6-d4208bdd2915",
   "metadata": {},
   "source": [
    "Let's first create a new virtual environment in the terminal\n",
    "\n",
    "<code>python3 -m venv mlflow-venv\n",
    "source mlflow-venv/bin/activate</code>"
   ]
  },
  {
   "cell_type": "markdown",
   "id": "9df2d2dd-a50e-4d47-b9fd-f68ddd9e2043",
   "metadata": {},
   "source": [
    "Next, we install dvc\n",
    "\n",
    "<code>pip install dvc</code>"
   ]
  },
  {
   "cell_type": "markdown",
   "id": "2f4e1deb-a964-4f20-a109-d5ff2f392fc6",
   "metadata": {},
   "source": [
    "## Init git repo\n",
    "First, we need to init a git repo\n",
    "\n",
    "<code>git init</code>"
   ]
  },
  {
   "cell_type": "markdown",
   "id": "526b0f16-afba-4fb8-ba56-f04937942101",
   "metadata": {},
   "source": [
    "## Init DVC repo\n",
    "\n",
    "Once DVC ist installed, we init a new DVC repo\n",
    "\n",
    "<code>\n",
    "dvc init\n",
    "dvc remote add -d dvc-remote /tmp/dvc-storage\n",
    "git add .\n",
    "git commit -m \"configure remote storage\"\n",
    "</code>"
   ]
  },
  {
   "cell_type": "markdown",
   "id": "f35fb1df-9324-44ba-85bc-b9322aa95428",
   "metadata": {},
   "source": [
    "Next, we copy our dataset csv into the directory and add it to DVC\n",
    "\n",
    "<code>dvc add BostonHousing.csv</code>"
   ]
  },
  {
   "cell_type": "markdown",
   "id": "47e40239-2a33-4aa7-8c77-5338cf6522af",
   "metadata": {},
   "source": [
    "Add the dvc file to the git repo\n",
    "\n",
    "<code>\n",
    "git add .\n",
    "git commit -m \"Add Boston Housing data to DVC\"\n",
    "git tag -a \"v1\" -m \"original data\"\n",
    "dvc push\n",
    "</code>"
   ]
  },
  {
   "cell_type": "markdown",
   "id": "66dda99d-3682-4774-8c43-deb421d1e833",
   "metadata": {},
   "source": [
    "# Creating a docker for the mlflow server"
   ]
  },
  {
   "cell_type": "markdown",
   "id": "b6f74fb0-fe5f-4f49-95da-8c9d843fde99",
   "metadata": {},
   "source": [
    "create a new file within the directory and name it \"Dockerfile\""
   ]
  },
  {
   "cell_type": "markdown",
   "id": "f341a8e5-38c5-4ec7-8935-aa7183f969f5",
   "metadata": {},
   "source": [
    "open the file and add the following:"
   ]
  },
  {
   "cell_type": "markdown",
   "id": "3222c70e-6cd7-4383-85cf-c590bce33912",
   "metadata": {},
   "source": [
    "<code>\n",
    "# Dockerfile\n",
    "\n",
    "FROM continuumio/miniconda3\n",
    "\n",
    "RUN conda install -c conda-forge mlflow\n",
    "EXPOSE 5000\n",
    "\n",
    "CMD [\"mlflow\", \"server\", \"--host\", \"0.0.0.0\", \"--port\", \"5000\"]\n",
    "</code>"
   ]
  },
  {
   "cell_type": "markdown",
   "id": "c23b6f0f-5603-4a91-8da5-f107b6b381db",
   "metadata": {},
   "source": [
    "Build the dockerfile and run it, preferably from another terminal:\n",
    "\n",
    "<code>sudo docker build -t mlflow-server .</code>\n",
    "\n",
    "<code>sudo docker run -p 5000:5000 mlflow-server</code>"
   ]
  },
  {
   "cell_type": "markdown",
   "id": "f2c1df7b-8d3d-4822-92a2-3d982e13be1e",
   "metadata": {},
   "source": [
    "Next, we can access the mlflow UI at http://localhost:5000"
   ]
  },
  {
   "cell_type": "markdown",
   "id": "9b58e208-5d18-4816-a2fa-a6d596e3b8e7",
   "metadata": {},
   "source": [
    "![alt text](mlflow_ui_fresh.png \"mlflow UI\")"
   ]
  },
  {
   "cell_type": "markdown",
   "id": "eb895127-a1cf-4ab3-ba39-36d555901afb",
   "metadata": {},
   "source": [
    "# Run some experiments"
   ]
  },
  {
   "cell_type": "markdown",
   "id": "5443dd82-f8f6-4b07-90d9-6f7cbd18170a",
   "metadata": {},
   "source": [
    "So far, everything is set up and we can start with some model training. Create a new python file <code>train.py</code> and add the following to it:"
   ]
  },
  {
   "cell_type": "markdown",
   "id": "23217577-8edc-4fb7-8ad5-e31f9923110b",
   "metadata": {},
   "source": [
    "import dvc.api\n",
    "import mlflow\n",
    "import mlflow.sklearn\n",
    "from sklearn.model_selection import train_test_split\n",
    "from sklearn.neural_network import MLPRegressor\n",
    "from sklearn.metrics import mean_squared_error\n",
    "from numpy import genfromtxt\n",
    "\n",
    "\n",
    "# Set the tracking uri and the experiment where the runs should be logged to\n",
    "mlflow.set_tracking_uri(\"http://localhost:5000\")\n",
    "mlflow.set_experiment(\"Boston Housing Regression\")\n",
    "\n",
    "# Define dataset using DVC\n",
    "version = \"v1\"\n",
    "\n",
    "data_url = dvc.api.get_url(\n",
    "    path = \"BostonHousing.csv\",\n",
    "    repo = \"/home/torsten/projects/MLOps\",\n",
    "    rev = version\n",
    ")\n",
    "\n",
    "# Load dataset into numpy array\n",
    "data = genfromtxt(data_url, delimiter=',')\n",
    "labels = data [:1,:]\n",
    "X = data[1:, :-1]\n",
    "y = data[1:, -1] \n",
    "\n",
    "# split data into train and test \n",
    "X_train, X_test, y_train, y_test = train_test_split(X, y, test_size=0.2, random_state=42)\n",
    "\n",
    "\n",
    "# iterate over a set of parameters to simulate different experiments\n",
    "for nodes in range(10,31,10):\n",
    "    # define parameters to be logged with mlflow\n",
    "    params = {\n",
    "        \"layers\": 1,\n",
    "        \"number of nodes\": nodes,\n",
    "        \"model\": \"MLPRegressor\"\n",
    "    }\n",
    "\n",
    "    # train a Multi Layer Perceptron with the defined number of nodes\n",
    "    regr = MLPRegressor(max_iter=500, hidden_layer_sizes=(nodes,), random_state=42)\n",
    "    regr.fit(X_train, y_train)\n",
    "    \n",
    "    # predict on test set\n",
    "    y_pred = regr.predict(X_test)\n",
    "    \n",
    "    # calculate MSE metric\n",
    "    mse = mean_squared_error(y_test, y_pred)\n",
    "    \n",
    "    #log to mlflow\n",
    "    with mlflow.start_run():\n",
    "        # set name of the current run\n",
    "        mlflow.set_tag(\"mlflow.runName\", \"boston_MLP_\" + str(nodes))\n",
    "        # log model\n",
    "        mlflow.sklearn.log_model(regr, \"model_MLP_\" + str(nodes))\n",
    "        # log training configurations\n",
    "        mlflow.log_metric(\"MSE\", mse)\n",
    "        # log parameters\n",
    "        mlflow.log_params(params)\n",
    "        # Log data as parameters\n",
    "        mlflow.log_param('data_url', data_url)\n",
    "        mlflow.log_param('data_version', version)    \n",
    "\n",
    "print(\"All experiments done, go grab a coffee...\")"
   ]
  },
  {
   "cell_type": "markdown",
   "id": "94eb8db8-32be-4de8-834d-1dad54116705",
   "metadata": {},
   "source": [
    "Add and commit everything to git:\n",
    "\n",
    "<code>\n",
    "git add .\n",
    "git commit -m \"code file added\"\n",
    "</code>"
   ]
  },
  {
   "cell_type": "markdown",
   "id": "c06104b6-e885-43ae-9b94-371ca5dacb3c",
   "metadata": {},
   "source": [
    "## run the pyhton script"
   ]
  },
  {
   "cell_type": "markdown",
   "id": "2448649c-f5fb-42ef-9aa5-045fdc575b3d",
   "metadata": {},
   "source": [
    "<code>\n",
    "python3 train.py\n",
    "</code>"
   ]
  },
  {
   "cell_type": "markdown",
   "id": "2e335c14-eeb7-4910-8570-b343a3ba2018",
   "metadata": {},
   "source": [
    "We can see the results at the mlflow webUI"
   ]
  },
  {
   "cell_type": "markdown",
   "id": "03ed4ce8-e17b-40bf-8f6d-f399177f6cf2",
   "metadata": {},
   "source": [
    "![alt text](mlflow_ui_runs.png \"mlflow UI\")"
   ]
  },
  {
   "cell_type": "markdown",
   "id": "c2b630be-1608-4380-9b39-04aa9fc372aa",
   "metadata": {},
   "source": [
    "Note that we logged the hyperparameters, the data version, metrics and even the complete model that. The model can be restored from mlflow, the dataset in its used version can be restored from DVC."
   ]
  },
  {
   "cell_type": "markdown",
   "id": "cce5490c-af02-48b2-a6bb-7babaa6aecd8",
   "metadata": {},
   "source": [
    "# Version of the dataset\n",
    "\n",
    "If we make changes to the dataset, like preprocessing or removing datapints, we need to create a new version of it. Let's assume we removed some outlier datapoints\n",
    "\n",
    "<code>\n",
    "dvc add BostonHousing.csv\n",
    "dvc push\n",
    "git add .\n",
    "git commit -m \"data: removed 20 outliers\"\n",
    "git tag -a \"v2\" -m \"removed 20 outliers\"\n",
    "</code>"
   ]
  },
  {
   "cell_type": "code",
   "execution_count": null,
   "id": "bece8046-bca3-4011-a4bf-197cecb96e29",
   "metadata": {},
   "outputs": [],
   "source": []
  }
 ],
 "metadata": {
  "kernelspec": {
   "display_name": "Python 3 (ipykernel)",
   "language": "python",
   "name": "python3"
  },
  "language_info": {
   "codemirror_mode": {
    "name": "ipython",
    "version": 3
   },
   "file_extension": ".py",
   "mimetype": "text/x-python",
   "name": "python",
   "nbconvert_exporter": "python",
   "pygments_lexer": "ipython3",
   "version": "3.10.12"
  }
 },
 "nbformat": 4,
 "nbformat_minor": 5
}
